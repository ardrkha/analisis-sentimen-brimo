{
 "cells": [
  {
   "cell_type": "markdown",
   "metadata": {},
   "source": [
    "# Sentimen Analisis pada Aplikasi BRImo [Scraping Data]"
   ]
  },
  {
   "cell_type": "markdown",
   "metadata": {},
   "source": [
    "## Import Library"
   ]
  },
  {
   "cell_type": "code",
   "execution_count": 5,
   "metadata": {},
   "outputs": [],
   "source": [
    "from google_play_scraper import Sort, reviews_all \n",
    "import pandas as pd\n",
    "pd.options.mode.chained_assignment = None\n",
    "import numpy as np\n",
    "seed = 0\n",
    "np.random.seed(seed)\n",
    "import csv"
   ]
  },
  {
   "cell_type": "markdown",
   "metadata": {},
   "source": [
    "## Scrapping Dataset"
   ]
  },
  {
   "cell_type": "code",
   "execution_count": 6,
   "metadata": {},
   "outputs": [],
   "source": [
    "# Mengambil semua ulasan dari aplikasi dengan ID 'id.co.bri.brimo' di Google Play Store.\n",
    "scrapreview = reviews_all(\n",
    "    'id.co.bri.brimo',          # ID aplikasi\n",
    "    lang='id',                  # Bahasa ulasan\n",
    "    country='id',               # Negara\n",
    "    sort=Sort.MOST_RELEVANT,    # Urutan ulasan\n",
    "    count=15000                 # Jumlah maksimum ulasan yang ingin diambil\n",
    ")"
   ]
  },
  {
   "cell_type": "code",
   "execution_count": 7,
   "metadata": {},
   "outputs": [],
   "source": [
    "# Menyimpan ulasan dalam file CSV\n",
    "with open('review_aplikasi.csv', mode='w', newline='', encoding='utf-8') as file:\n",
    "    writer = csv.writer(file)\n",
    "    writer.writerow(['Review'])  # Menulis header kolom\n",
    "    for review in scrapreview:\n",
    "        writer.writerow([review['content']])  # Menulis konten ulasan ke dalam file CSV"
   ]
  }
 ],
 "metadata": {
  "kernelspec": {
   "display_name": "nlp",
   "language": "python",
   "name": "python3"
  },
  "language_info": {
   "codemirror_mode": {
    "name": "ipython",
    "version": 3
   },
   "file_extension": ".py",
   "mimetype": "text/x-python",
   "name": "python",
   "nbconvert_exporter": "python",
   "pygments_lexer": "ipython3",
   "version": "3.11.11"
  }
 },
 "nbformat": 4,
 "nbformat_minor": 2
}
